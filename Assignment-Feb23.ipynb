{
 "cells": [
  {
   "cell_type": "code",
   "execution_count": 1,
   "metadata": {},
   "outputs": [
    {
     "ename": "ImportError",
     "evalue": "No module named MyPackage",
     "output_type": "error",
     "traceback": [
      "\u001b[1;31m\u001b[0m",
      "\u001b[1;31mImportError\u001b[0mTraceback (most recent call last)",
      "\u001b[1;32m<ipython-input-1-ec3335959342>\u001b[0m in \u001b[0;36m<module>\u001b[1;34m()\u001b[0m\n\u001b[1;32m----> 1\u001b[1;33m \u001b[1;32mfrom\u001b[0m \u001b[0mMyPackage\u001b[0m \u001b[1;32mimport\u001b[0m \u001b[0mcalc\u001b[0m\u001b[1;33m\u001b[0m\u001b[0m\n\u001b[0m",
      "\u001b[1;31mImportError\u001b[0m: No module named MyPackage"
     ]
    }
   ],
   "source": [
    "# Question 1\n",
    "from MyPackage import Calc"
   ]
  },
  {
   "cell_type": "code",
   "execution_count": 8,
   "metadata": {},
   "outputs": [],
   "source": [
    "# Question 2\n",
    "def Fibonacci(n):\n",
    "    a = -1\n",
    "    b = 1\n",
    "    for i in range(n):\n",
    "        c = a + b\n",
    "        print(c)\n",
    "        a = b\n",
    "        b = c"
   ]
  },
  {
   "cell_type": "code",
   "execution_count": 9,
   "metadata": {},
   "outputs": [
    {
     "name": "stdout",
     "output_type": "stream",
     "text": [
      "0\n",
      "1\n",
      "1\n",
      "2\n",
      "3\n",
      "5\n",
      "8\n",
      "13\n",
      "21\n",
      "34\n"
     ]
    }
   ],
   "source": [
    "Fibonacci(10)"
   ]
  },
  {
   "cell_type": "code",
   "execution_count": 32,
   "metadata": {},
   "outputs": [
    {
     "name": "stdout",
     "output_type": "stream",
     "text": [
      "10\n",
      "9\n",
      "8\n",
      "7\n",
      "6\n",
      "5\n",
      "4\n",
      "3\n",
      "2\n",
      "1\n"
     ]
    }
   ],
   "source": [
    "# Question 3 - Iterator Class\n",
    "class MySequence:\n",
    " \n",
    "    def __iter__(self):\n",
    "        self.x = 10\n",
    "        return self\n",
    " \n",
    "    def next(self):\n",
    "        x = self.x\n",
    "        self.x = x - 1;\n",
    "        return x\n",
    "\n",
    "for i in MySequence():\n",
    "    if (i == 0):\n",
    "        break\n",
    "    print(i)"
   ]
  },
  {
   "cell_type": "code",
   "execution_count": 35,
   "metadata": {},
   "outputs": [
    {
     "name": "stdout",
     "output_type": "stream",
     "text": [
      "It is a decorator function ... \n"
     ]
    },
    {
     "data": {
      "text/plain": [
       "19000.0"
      ]
     },
     "execution_count": 35,
     "metadata": {},
     "output_type": "execute_result"
    }
   ],
   "source": [
    "# Question 4 - Salary calculation\n",
    "def Salary(BasePay, HRA, SpecialAllowance):\n",
    "    return(BasePay + HRA + SpecialAllowance)\n",
    "\n",
    "def IncomeTax(Function, a, b, c):\n",
    "    print('It is a decorator function ... ')\n",
    "    NetPay = Function(a, b, c)\n",
    "    Tax = a * 0.3\n",
    "    return(NetPay - Tax)\n",
    "\n",
    "IncomeTax(Salary, 10000, 3000, 9000)"
   ]
  },
  {
   "cell_type": "code",
   "execution_count": 41,
   "metadata": {},
   "outputs": [
    {
     "name": "stdout",
     "output_type": "stream",
     "text": [
      "('Initial Tuple is : ', ('Sam', 'Joe', 'Jill', 'Jack'))\n",
      "('Converted List from a Tuple is :', ['Sam', 'Joe', 'Jill', 'Jack'])\n",
      "('New Tuple using First Method :', ('Bill', 'Joe', 'Jill', 'Jack'))\n",
      "('Converted List from a Tuple is :', ['Bill', 'Joe', 'Jill', 'Jack'])\n",
      "('New Tuple using Second Method :', ('Bill', 'Joe', 'Jill', 'Jack', 'Alex'))\n",
      "('New Tuple using Third Method :', ('Bill', 'Joe', 'Jill', 'Jack', 'Alex', 'John'))\n"
     ]
    }
   ],
   "source": [
    "# Question 5 - Possible three ways to change the Tuple\n",
    "MyTuple = ('Sam', 'Joe', 'Jill', 'Jack')\n",
    "print('Initial Tuple is : ',MyTuple)\n",
    "\n",
    "# First method of changing the values of a Tuple\n",
    "MyList = list(MyTuple)\n",
    "print('Converted List from a Tuple is :',MyList)\n",
    "MyList[0] = 'Bill'\n",
    "MyTuple = tuple(MyList)\n",
    "print('New Tuple using First Method :', MyTuple)\n",
    "\n",
    "# Second method of changing the values of a Tuple\n",
    "MyList = list(MyTuple)\n",
    "print('Converted List from a Tuple is :',MyList)\n",
    "MyList.append('Alex')\n",
    "MyTuple = tuple(MyList)\n",
    "print('New Tuple using Second Method :', MyTuple)\n",
    "\n",
    "# Second method of changing the values of a Tuple\n",
    "NewTuple = ('John',)\n",
    "MyTuple += NewTuple\n",
    "print('New Tuple using Third Method :', MyTuple)"
   ]
  },
  {
   "cell_type": "code",
   "execution_count": null,
   "metadata": {},
   "outputs": [],
   "source": []
  },
  {
   "cell_type": "code",
   "execution_count": null,
   "metadata": {},
   "outputs": [],
   "source": []
  },
  {
   "cell_type": "code",
   "execution_count": null,
   "metadata": {},
   "outputs": [],
   "source": []
  },
  {
   "cell_type": "code",
   "execution_count": null,
   "metadata": {},
   "outputs": [],
   "source": []
  },
  {
   "cell_type": "code",
   "execution_count": null,
   "metadata": {},
   "outputs": [],
   "source": []
  },
  {
   "cell_type": "code",
   "execution_count": null,
   "metadata": {},
   "outputs": [],
   "source": []
  },
  {
   "cell_type": "code",
   "execution_count": null,
   "metadata": {},
   "outputs": [],
   "source": []
  },
  {
   "cell_type": "code",
   "execution_count": null,
   "metadata": {},
   "outputs": [],
   "source": []
  },
  {
   "cell_type": "code",
   "execution_count": null,
   "metadata": {},
   "outputs": [],
   "source": []
  },
  {
   "cell_type": "code",
   "execution_count": null,
   "metadata": {},
   "outputs": [],
   "source": []
  }
 ],
 "metadata": {
  "kernelspec": {
   "display_name": "Python 2",
   "language": "python",
   "name": "python2"
  },
  "language_info": {
   "codemirror_mode": {
    "name": "ipython",
    "version": 2
   },
   "file_extension": ".py",
   "mimetype": "text/x-python",
   "name": "python",
   "nbconvert_exporter": "python",
   "pygments_lexer": "ipython2",
   "version": "2.7.16"
  }
 },
 "nbformat": 4,
 "nbformat_minor": 2
}
