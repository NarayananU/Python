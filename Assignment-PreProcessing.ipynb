{
 "cells": [
  {
   "cell_type": "code",
   "execution_count": null,
   "metadata": {},
   "outputs": [],
   "source": [
    "# Question 1\n",
    "import os\n",
    "import numpy as np\n",
    "import pandas as pd\n",
    "os.getcwd()\n",
    "os.chdir(r'c:\\\\users\\\\public\\\\narayanan')\n",
    "df = pd.read_csv('Demand_txn_updated.csv',na_values=['#NAME?'])\n",
    "df.dtypes\n",
    "df.head(15)"
   ]
  },
  {
   "cell_type": "code",
   "execution_count": null,
   "metadata": {},
   "outputs": [],
   "source": [
    "# Question 2\n",
    "\n",
    "pd.to_datetime(df['Transaction_Date'], unit='s',errors='ignore')"
   ]
  },
  {
   "cell_type": "code",
   "execution_count": null,
   "metadata": {},
   "outputs": [],
   "source": [
    "# Question 3\n",
    "\n",
    "df['Transaction_Date'] = [x if x > '2016-08-01' else 1 for x in df['Transaction_Date']]\n",
    "X = df.drop('Transaction_Date', 1)\n",
    "X"
   ]
  },
  {
   "cell_type": "code",
   "execution_count": null,
   "metadata": {},
   "outputs": [],
   "source": [
    "# Question 4\n",
    "\n",
    "df['Mapped_Sales_Type'].unique()"
   ]
  },
  {
   "cell_type": "code",
   "execution_count": null,
   "metadata": {},
   "outputs": [],
   "source": [
    "# Question 5\n",
    "\n",
    "df.columns"
   ]
  },
  {
   "cell_type": "code",
   "execution_count": null,
   "metadata": {},
   "outputs": [],
   "source": [
    "#Question 6\n",
    "\n",
    "df['Avg_Discount_Percent_On_Discounted_Items'] = [x if x < 1.0 else 0 for x in df['Avg_Discount_Percent_On_Discounted_Items']]\n",
    "df\n",
    "X = df.drop(Avg_Discount_Percent_On_Discounted_Items, 0.000000)\n",
    "\n",
    "df.groupby(['City','Mapped_Sales_Type','Mapped_Item_Code','Transaction_Date' ]).['Quantity_Sold'].agg(mean)\n",
    "df.groupby(['City','Mapped_Sales_Type','Mapped_Item_Code','Transaction_Date' ]).['Median_Price'].agg(median)\n",
    "df.groupby(['City','Mapped_Sales_Type','Mapped_Item_Code','Transaction_Date' ]).['Effective_Price'].agg(median)"
   ]
  },
  {
   "cell_type": "code",
   "execution_count": null,
   "metadata": {},
   "outputs": [],
   "source": [
    "#Question 7\n",
    "\n",
    "df['Effective_Price'].notnull().tail(5)"
   ]
  },
  {
   "cell_type": "code",
   "execution_count": null,
   "metadata": {},
   "outputs": [],
   "source": [
    "# Question 8\n",
    "\n",
    "df.loc[(df['Mapped_Sales_Type']=='Delivery') & (df['City' == 'Chennai'])]"
   ]
  },
  {
   "cell_type": "code",
   "execution_count": null,
   "metadata": {},
   "outputs": [],
   "source": [
    "# Question 9\n",
    "MyDict = {'Day': ['Mon','Tue','Wed']}\n",
    "df.isin(MyDict)"
   ]
  },
  {
   "cell_type": "code",
   "execution_count": null,
   "metadata": {},
   "outputs": [],
   "source": [
    "# Question 10\n",
    "\n",
    "df.loc[df['Percent_Quantity_With_Discount'] != 0.0]"
   ]
  },
  {
   "cell_type": "code",
   "execution_count": null,
   "metadata": {},
   "outputs": [],
   "source": [
    "# Question 11\n",
    "\n",
    "df['Range'] = [1 if df['Effective_Price'] > 500 else 0.5]"
   ]
  },
  {
   "cell_type": "code",
   "execution_count": null,
   "metadata": {},
   "outputs": [],
   "source": [
    "# Question 12\n",
    "from sklearn.impute import SimpleImputer\n",
    "\n",
    "imp = SimpleImputer(missing_values=np.nan,strategy='mean')\n",
    "imp.fit(df)\n",
    "x = pd.DataFrame(imp.transform(df),columns=df.columns)\n",
    "\n",
    "obj_col['Mapped_Sales_Type'].value_counts()['demand']\n",
    "pd.get_dummies(obj_col, columns=['Mapped_Sales_Type','demand'], prefix_sep['Mapped','Demand'])\n",
    "\n",
    "from sklearn.preprocessing import LabelBinarizer\n",
    "\n",
    "lb_result = le_style.fit_transform(obj_col['Day'])\n",
    "pd.DataFrame(lb_result,columns=lb_style.class_).tail()"
   ]
  },
  {
   "cell_type": "code",
   "execution_count": null,
   "metadata": {},
   "outputs": [],
   "source": []
  }
 ],
 "metadata": {
  "kernelspec": {
   "display_name": "Python 2",
   "language": "python",
   "name": "python2"
  },
  "language_info": {
   "codemirror_mode": {
    "name": "ipython",
    "version": 2
   },
   "file_extension": ".py",
   "mimetype": "text/x-python",
   "name": "python",
   "nbconvert_exporter": "python",
   "pygments_lexer": "ipython2",
   "version": "2.7.16"
  }
 },
 "nbformat": 4,
 "nbformat_minor": 2
}
