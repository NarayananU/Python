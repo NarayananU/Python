{
 "cells": [
  {
   "cell_type": "code",
   "execution_count": 7,
   "id": "0f63ab27",
   "metadata": {},
   "outputs": [
    {
     "name": "stdout",
     "output_type": "stream",
     "text": [
      "Enter a number 12\n",
      "Do you wish to enter another number? (y/n)\n",
      "y\n",
      "Enter a number 13\n",
      "Do you wish to enter another number? (y/n)\n",
      "y\n",
      "Enter a number 14\n",
      "Do you wish to enter another number? (y/n)\n",
      "n\n",
      "The numbers are unique \n"
     ]
    }
   ],
   "source": [
    "MyList = list()\n",
    "MySet = set()\n",
    "ans = 'y'\n",
    "while (ans == 'y'):\n",
    "    Number = input('Enter a number ')\n",
    "    print('Do you wish to enter another number? (y/n)')\n",
    "    ans = input()\n",
    "    MyList.append(Number)\n",
    "    MySet.add(Number)\n",
    "if len(MySet) == len(MyList):\n",
    "    print('The numbers are unique ')\n",
    "else:\n",
    "    print('The numbers are not unique ')"
   ]
  },
  {
   "cell_type": "code",
   "execution_count": 22,
   "id": "f75fb7d3",
   "metadata": {},
   "outputs": [
    {
     "name": "stdout",
     "output_type": "stream",
     "text": [
      "Enter a number : 5\n",
      "The average is : 3.000000\n"
     ]
    }
   ],
   "source": [
    "Number = int(input('Enter a number : '))\n",
    "Sum = 0\n",
    "for i in range(1, Number+1):\n",
    "    Sum += i \n",
    "Average = Sum/Number\n",
    "print('The average is : %f' %Average)"
   ]
  },
  {
   "cell_type": "code",
   "execution_count": 25,
   "id": "771a6582",
   "metadata": {},
   "outputs": [
    {
     "name": "stdout",
     "output_type": "stream",
     "text": [
      "Please enter a number : 13\n",
      "Not a multiple of 5\n"
     ]
    }
   ],
   "source": [
    "Number = int(input('Please enter a number : '))\n",
    "if (Number%5==0):\n",
    "    if (Number%7==0):\n",
    "        print('A valid number')\n",
    "    else:\n",
    "        print('Not a multiple of 7')\n",
    "else:\n",
    "    print('Not a multiple of 5')"
   ]
  },
  {
   "cell_type": "code",
   "execution_count": 27,
   "id": "20c0d69a",
   "metadata": {},
   "outputs": [
    {
     "name": "stdout",
     "output_type": "stream",
     "text": [
      "Enter a number : 285\n",
      "582\n"
     ]
    }
   ],
   "source": [
    "Number = input('Enter a number : ')\n",
    "print(Number[::-1])"
   ]
  },
  {
   "cell_type": "code",
   "execution_count": 28,
   "id": "80659e0f",
   "metadata": {},
   "outputs": [],
   "source": [
    "def OuterFuction(a, b):\n",
    "    return (def InnerFuction(a, b):\n",
    "        return a+b ) + 5"
   ]
  },
  {
   "cell_type": "code",
   "execution_count": 36,
   "id": "8e3e6be6",
   "metadata": {},
   "outputs": [
    {
     "name": "stdout",
     "output_type": "stream",
     "text": [
      "Enter a year : 2017\n",
      "Not a Leap Year\n"
     ]
    }
   ],
   "source": [
    "Year = int(input('Enter a year : '))\n",
    "if (Year%100 == 0):\n",
    "    if (Year%400 == 0):\n",
    "        print('Leap Year')\n",
    "    else:\n",
    "        print('Not a Leap Year')\n",
    "else:\n",
    "    if (Year%4==0):\n",
    "        print('Leap Year')\n",
    "    else:\n",
    "        print('Not a Leap Year')"
   ]
  },
  {
   "cell_type": "code",
   "execution_count": null,
   "id": "dcef34a3",
   "metadata": {},
   "outputs": [],
   "source": []
  },
  {
   "cell_type": "code",
   "execution_count": null,
   "id": "436b03e3",
   "metadata": {},
   "outputs": [],
   "source": []
  },
  {
   "cell_type": "code",
   "execution_count": null,
   "id": "4be82bab",
   "metadata": {},
   "outputs": [],
   "source": []
  },
  {
   "cell_type": "code",
   "execution_count": null,
   "id": "faa10692",
   "metadata": {},
   "outputs": [],
   "source": []
  },
  {
   "cell_type": "code",
   "execution_count": null,
   "id": "63d56fd1",
   "metadata": {},
   "outputs": [],
   "source": []
  },
  {
   "cell_type": "code",
   "execution_count": null,
   "id": "c2bed686",
   "metadata": {},
   "outputs": [],
   "source": []
  },
  {
   "cell_type": "code",
   "execution_count": null,
   "id": "c16e8a37",
   "metadata": {},
   "outputs": [],
   "source": []
  },
  {
   "cell_type": "code",
   "execution_count": null,
   "id": "7b4414ed",
   "metadata": {},
   "outputs": [],
   "source": []
  },
  {
   "cell_type": "code",
   "execution_count": null,
   "id": "969a4786",
   "metadata": {},
   "outputs": [],
   "source": []
  },
  {
   "cell_type": "code",
   "execution_count": null,
   "id": "d2d68169",
   "metadata": {},
   "outputs": [],
   "source": []
  }
 ],
 "metadata": {
  "kernelspec": {
   "display_name": "Python 3 (ipykernel)",
   "language": "python",
   "name": "python3"
  },
  "language_info": {
   "codemirror_mode": {
    "name": "ipython",
    "version": 3
   },
   "file_extension": ".py",
   "mimetype": "text/x-python",
   "name": "python",
   "nbconvert_exporter": "python",
   "pygments_lexer": "ipython3",
   "version": "3.9.7"
  }
 },
 "nbformat": 4,
 "nbformat_minor": 5
}
