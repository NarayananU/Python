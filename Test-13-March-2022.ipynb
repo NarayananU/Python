{
 "cells": [
  {
   "cell_type": "code",
   "execution_count": 4,
   "id": "90d0bf1c",
   "metadata": {},
   "outputs": [
    {
     "name": "stdout",
     "output_type": "stream",
     "text": [
      "Enter your name Narayanan\n",
      "Enter your age 52\n",
      "In the Year  2070 Narayanan  will become 100 years\n"
     ]
    }
   ],
   "source": [
    "#Question 1\n",
    "Name = input('Enter your name ' )\n",
    "Age = int(input('Enter your age '))\n",
    "YearToBeAdded = 100 - Age\n",
    "print('In the Year ', 2022 + YearToBeAdded, Name,' will become 100 years' )"
   ]
  },
  {
   "cell_type": "code",
   "execution_count": 9,
   "id": "82dffde3",
   "metadata": {},
   "outputs": [
    {
     "data": {
      "text/html": [
       "<div>\n",
       "<style scoped>\n",
       "    .dataframe tbody tr th:only-of-type {\n",
       "        vertical-align: middle;\n",
       "    }\n",
       "\n",
       "    .dataframe tbody tr th {\n",
       "        vertical-align: top;\n",
       "    }\n",
       "\n",
       "    .dataframe thead th {\n",
       "        text-align: right;\n",
       "    }\n",
       "</style>\n",
       "<table border=\"1\" class=\"dataframe\">\n",
       "  <thead>\n",
       "    <tr style=\"text-align: right;\">\n",
       "      <th></th>\n",
       "      <th>Name</th>\n",
       "      <th>Age</th>\n",
       "    </tr>\n",
       "    <tr>\n",
       "      <th>City</th>\n",
       "      <th></th>\n",
       "      <th></th>\n",
       "    </tr>\n",
       "  </thead>\n",
       "  <tbody>\n",
       "    <tr>\n",
       "      <th>Dalas</th>\n",
       "      <td>Jim</td>\n",
       "      <td>23</td>\n",
       "    </tr>\n",
       "    <tr>\n",
       "      <th>New York</th>\n",
       "      <td>Sam</td>\n",
       "      <td>45</td>\n",
       "    </tr>\n",
       "  </tbody>\n",
       "</table>\n",
       "</div>"
      ],
      "text/plain": [
       "         Name  Age\n",
       "City              \n",
       "Dalas     Jim   23\n",
       "New York  Sam   45"
      ]
     },
     "execution_count": 9,
     "metadata": {},
     "output_type": "execute_result"
    }
   ],
   "source": [
    "# Question 2\n",
    "# Group By in pandas is used for combining similar values in a column and take their averages/perform any operation over them\n",
    "import pandas as pd\n",
    "\n",
    "Dictionary = {'Name': ['Jim', 'Jack', 'Sam', 'Jill'],\n",
    "              'City': ['Dalas', 'Dalas', 'New York', 'Dalas'],\n",
    "              'Age' : [23, 25, 45, 35]}\n",
    "NewDataFrame = pd.DataFrame(Dictionary)\n",
    "NDF = NewDataFrame.groupby('City')\n",
    "NDF.first()"
   ]
  },
  {
   "cell_type": "code",
   "execution_count": 10,
   "id": "adb36feb",
   "metadata": {},
   "outputs": [
    {
     "data": {
      "text/html": [
       "<div>\n",
       "<style scoped>\n",
       "    .dataframe tbody tr th:only-of-type {\n",
       "        vertical-align: middle;\n",
       "    }\n",
       "\n",
       "    .dataframe tbody tr th {\n",
       "        vertical-align: top;\n",
       "    }\n",
       "\n",
       "    .dataframe thead th {\n",
       "        text-align: right;\n",
       "    }\n",
       "</style>\n",
       "<table border=\"1\" class=\"dataframe\">\n",
       "  <thead>\n",
       "    <tr style=\"text-align: right;\">\n",
       "      <th></th>\n",
       "      <th>0</th>\n",
       "    </tr>\n",
       "  </thead>\n",
       "  <tbody>\n",
       "    <tr>\n",
       "      <th>0</th>\n",
       "      <td>Red</td>\n",
       "    </tr>\n",
       "    <tr>\n",
       "      <th>1</th>\n",
       "      <td>Orange</td>\n",
       "    </tr>\n",
       "    <tr>\n",
       "      <th>2</th>\n",
       "      <td>Brown</td>\n",
       "    </tr>\n",
       "    <tr>\n",
       "      <th>3</th>\n",
       "      <td>Green</td>\n",
       "    </tr>\n",
       "    <tr>\n",
       "      <th>4</th>\n",
       "      <td>Rose</td>\n",
       "    </tr>\n",
       "  </tbody>\n",
       "</table>\n",
       "</div>"
      ],
      "text/plain": [
       "        0\n",
       "0     Red\n",
       "1  Orange\n",
       "2   Brown\n",
       "3   Green\n",
       "4    Rose"
      ]
     },
     "execution_count": 10,
     "metadata": {},
     "output_type": "execute_result"
    }
   ],
   "source": [
    "# Question 3\n",
    "\n",
    "List = ['Red', 'Orange', 'Brown', 'Green', 'Rose']\n",
    "NewDataFrame = pd.DataFrame(List)\n",
    "NewDataFrame"
   ]
  },
  {
   "cell_type": "code",
   "execution_count": 16,
   "id": "89c36c8e",
   "metadata": {},
   "outputs": [
    {
     "data": {
      "text/html": [
       "<div>\n",
       "<style scoped>\n",
       "    .dataframe tbody tr th:only-of-type {\n",
       "        vertical-align: middle;\n",
       "    }\n",
       "\n",
       "    .dataframe tbody tr th {\n",
       "        vertical-align: top;\n",
       "    }\n",
       "\n",
       "    .dataframe thead th {\n",
       "        text-align: right;\n",
       "    }\n",
       "</style>\n",
       "<table border=\"1\" class=\"dataframe\">\n",
       "  <thead>\n",
       "    <tr style=\"text-align: right;\">\n",
       "      <th></th>\n",
       "      <th>0</th>\n",
       "      <th>0</th>\n",
       "    </tr>\n",
       "  </thead>\n",
       "  <tbody>\n",
       "    <tr>\n",
       "      <th>0</th>\n",
       "      <td>1</td>\n",
       "      <td>5</td>\n",
       "    </tr>\n",
       "    <tr>\n",
       "      <th>1</th>\n",
       "      <td>2</td>\n",
       "      <td>6</td>\n",
       "    </tr>\n",
       "    <tr>\n",
       "      <th>2</th>\n",
       "      <td>3</td>\n",
       "      <td>7</td>\n",
       "    </tr>\n",
       "    <tr>\n",
       "      <th>3</th>\n",
       "      <td>4</td>\n",
       "      <td>8</td>\n",
       "    </tr>\n",
       "  </tbody>\n",
       "</table>\n",
       "</div>"
      ],
      "text/plain": [
       "   0  0\n",
       "0  1  5\n",
       "1  2  6\n",
       "2  3  7\n",
       "3  4  8"
      ]
     },
     "execution_count": 16,
     "metadata": {},
     "output_type": "execute_result"
    }
   ],
   "source": [
    "# Question 4\n",
    "\n",
    "ListOne = [1, 2, 3, 4]\n",
    "ListTwo = [5, 6, 7, 8]\n",
    "DataFrameOne = pd.DataFrame(ListOne)\n",
    "DataFrameTwo = pd.DataFrame(ListTwo)\n",
    "CombinedList = [DataFrameOne,DataFrameTwo]\n",
    "NewDataFrame = pd.concat(CombinedList)\n",
    "NewDataFrame\n",
    "NewDataFrame = DataFrameOne.append(DataFrameTwo)\n",
    "NewDataFrame\n",
    "NewDataFrame = pd.concat(CombinedList,axis=1,join='inner')\n",
    "NewDataFrame"
   ]
  },
  {
   "cell_type": "code",
   "execution_count": null,
   "id": "2ee5b40e",
   "metadata": {},
   "outputs": [],
   "source": [
    "# Question 5\n",
    "# Both Lists and Tuples are used to store multiple values.  Lists are Mutable, Ordered, Allow Duplicates.  Tuples are Immutable,\n",
    "# Ordered, Allow Duplicates"
   ]
  },
  {
   "cell_type": "code",
   "execution_count": 21,
   "id": "57a00932",
   "metadata": {},
   "outputs": [
    {
     "data": {
      "text/plain": [
       "36.59424666377065"
      ]
     },
     "execution_count": 21,
     "metadata": {},
     "output_type": "execute_result"
    }
   ],
   "source": [
    "# Question 6\n",
    "\n",
    "import numpy as np\n",
    "\n",
    "MyArray = np.array([1, 3, 5, 100, 4, 48])\n",
    "np.mean(MyArray)\n",
    "np.median(MyArray)\n",
    "np.std(MyArray)"
   ]
  },
  {
   "cell_type": "code",
   "execution_count": 1,
   "id": "73acc7ff",
   "metadata": {},
   "outputs": [
    {
     "name": "stdout",
     "output_type": "stream",
     "text": [
      "1\n",
      "2\n",
      "3\n",
      "4\n",
      "5\n"
     ]
    }
   ],
   "source": [
    "# Question 7\n",
    "\n",
    "MyList = [1, 2, 3, 3, 4, 5]\n",
    "MySet = set()\n",
    "for i in MyList:\n",
    "    MySet.add(i)\n",
    "for i in MySet:\n",
    "    print(i)"
   ]
  },
  {
   "cell_type": "code",
   "execution_count": 3,
   "id": "b560bcf6",
   "metadata": {},
   "outputs": [
    {
     "name": "stdout",
     "output_type": "stream",
     "text": [
      "[1, 2, 3, 4, 5]\n"
     ]
    }
   ],
   "source": [
    "# Question 8\n",
    "# A map function will receive a function as first parameter and apply that function to all the elements in the second parameter\n",
    "\n",
    "MyList = ['1', '2', '3', '4', '5']\n",
    "NewList = list(map(int, MyList))\n",
    "print(NewList)"
   ]
  },
  {
   "cell_type": "code",
   "execution_count": null,
   "id": "3252bc87",
   "metadata": {},
   "outputs": [],
   "source": [
    "# Question 9\n",
    "\n",
    "# pass is a statement in Python.  It is executed by the Interpreter where as a comment is not executed.  \n",
    "# Wherever null statement is not allowed, a pass statement can be used.  Please see the example\n",
    "\n",
    "n = 10\n",
    "for i in range(n):\n",
    "    pass\n"
   ]
  },
  {
   "cell_type": "code",
   "execution_count": 8,
   "id": "de313e16",
   "metadata": {
    "scrolled": true
   },
   "outputs": [
    {
     "data": {
      "text/plain": [
       "array([[1],\n",
       "       [2],\n",
       "       [3],\n",
       "       [4]])"
      ]
     },
     "execution_count": 8,
     "metadata": {},
     "output_type": "execute_result"
    }
   ],
   "source": [
    "# Question 10\n",
    "\n",
    "# vstack() function will arrange the group of elements in vertical order.  Please see the example below\n",
    "import numpy as np\n",
    "MyArray = np.array([1, 2, 3, 4])\n",
    "NewArray = np.vstack(MyArray)\n",
    "NewArray"
   ]
  },
  {
   "cell_type": "code",
   "execution_count": null,
   "id": "6da5e0e1",
   "metadata": {},
   "outputs": [],
   "source": []
  },
  {
   "cell_type": "code",
   "execution_count": null,
   "id": "6ffa3a37",
   "metadata": {},
   "outputs": [],
   "source": []
  },
  {
   "cell_type": "code",
   "execution_count": null,
   "id": "6c5032f7",
   "metadata": {},
   "outputs": [],
   "source": []
  }
 ],
 "metadata": {
  "kernelspec": {
   "display_name": "Python 3 (ipykernel)",
   "language": "python",
   "name": "python3"
  },
  "language_info": {
   "codemirror_mode": {
    "name": "ipython",
    "version": 3
   },
   "file_extension": ".py",
   "mimetype": "text/x-python",
   "name": "python",
   "nbconvert_exporter": "python",
   "pygments_lexer": "ipython3",
   "version": "3.9.7"
  }
 },
 "nbformat": 4,
 "nbformat_minor": 5
}
