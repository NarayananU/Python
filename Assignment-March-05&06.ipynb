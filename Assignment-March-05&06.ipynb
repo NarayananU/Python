{
 "cells": [
  {
   "cell_type": "code",
   "execution_count": 2,
   "metadata": {},
   "outputs": [],
   "source": [
    "import numpy as np"
   ]
  },
  {
   "cell_type": "code",
   "execution_count": null,
   "metadata": {},
   "outputs": [],
   "source": [
    "#Question 1\n",
    "\n",
    "MyList = [[1, 2, 3], [4, 5, 6], [7, 8, 9]]\n",
    "MyArray = np.array(MyList)\n",
    "print(MyArray.ndim())\n",
    "print(MyArray.shape)"
   ]
  },
  {
   "cell_type": "code",
   "execution_count": 12,
   "metadata": {},
   "outputs": [
    {
     "name": "stdout",
     "output_type": "stream",
     "text": [
      "[10 11 12 13 14 15]\n"
     ]
    }
   ],
   "source": [
    "#Question 2\n",
    "\n",
    "NewArray = np.arange(20)\n",
    "print(NewArray[10:16])"
   ]
  },
  {
   "cell_type": "code",
   "execution_count": 6,
   "metadata": {},
   "outputs": [
    {
     "name": "stdout",
     "output_type": "stream",
     "text": [
      "[[ 2  4  6  8 10]\n",
      " [12 14 16 18 20]\n",
      " [22 24 26 28 30]\n",
      " [32 34 36 38 40]\n",
      " [42 44 46 48 50]\n",
      " [52 54 56 58 60]\n",
      " [62 64 66 68 70]]\n",
      "[[0 0 0 0 0]\n",
      " [0 0 0 0 0]\n",
      " [0 0 0 0 0]\n",
      " [0 0 0 0 0]\n",
      " [0 0 0 0 0]\n",
      " [0 0 0 0 0]\n",
      " [0 0 0 0 0]]\n",
      "[[   1    4    9   16   25]\n",
      " [  36   49   64   81  100]\n",
      " [ 121  144  169  196  225]\n",
      " [ 256  289  324  361  400]\n",
      " [ 441  484  529  576  625]\n",
      " [ 676  729  784  841  900]\n",
      " [ 961 1024 1089 1156 1225]]\n",
      "[[1 1 1 1 1]\n",
      " [1 1 1 1 1]\n",
      " [1 1 1 1 1]\n",
      " [1 1 1 1 1]\n",
      " [1 1 1 1 1]\n",
      " [1 1 1 1 1]\n",
      " [1 1 1 1 1]]\n"
     ]
    }
   ],
   "source": [
    "#Question 3\n",
    "\n",
    "NewList = [[1, 2, 3, 4, 5], [6, 7, 8, 9, 10], [11, 12, 13, 14, 15], [16, 17, 18, 19, 20], [21, 22, 23, 24, 25], [26, 27, 28, 29, 30], [31, 32, 33, 34, 35]]\n",
    "FirstArray = np.array(NewList)\n",
    "SecondArray = np.array(NewList)\n",
    "AddArray = np.add(FirstArray, SecondArray)\n",
    "print(AddArray)\n",
    "SubArray = np.subtract(FirstArray, SecondArray)\n",
    "print(SubArray)\n",
    "MultArray = np.multiply(FirstArray, SecondArray)\n",
    "print(MultArray)\n",
    "DivArray = np.divide(FirstArray, SecondArray)\n",
    "print(DivArray)"
   ]
  },
  {
   "cell_type": "code",
   "execution_count": 8,
   "metadata": {},
   "outputs": [
    {
     "ename": "ValueError",
     "evalue": "operands could not be broadcast together with shapes (5,) (2,2) ",
     "output_type": "error",
     "traceback": [
      "\u001b[1;31m\u001b[0m",
      "\u001b[1;31mValueError\u001b[0mTraceback (most recent call last)",
      "\u001b[1;32m<ipython-input-8-610879e27225>\u001b[0m in \u001b[0;36m<module>\u001b[1;34m()\u001b[0m\n\u001b[0;32m      4\u001b[0m \u001b[0mSecondArray\u001b[0m \u001b[1;33m=\u001b[0m \u001b[0mnp\u001b[0m\u001b[1;33m.\u001b[0m\u001b[0marray\u001b[0m\u001b[1;33m(\u001b[0m\u001b[1;33m[\u001b[0m\u001b[1;33m[\u001b[0m\u001b[1;36m1\u001b[0m\u001b[1;33m,\u001b[0m \u001b[1;36m2\u001b[0m\u001b[1;33m]\u001b[0m\u001b[1;33m,\u001b[0m \u001b[1;33m[\u001b[0m\u001b[1;36m3\u001b[0m\u001b[1;33m,\u001b[0m \u001b[1;36m4\u001b[0m\u001b[1;33m]\u001b[0m\u001b[1;33m]\u001b[0m\u001b[1;33m)\u001b[0m\u001b[1;33m\u001b[0m\u001b[0m\n\u001b[0;32m      5\u001b[0m \u001b[1;33m\u001b[0m\u001b[0m\n\u001b[1;32m----> 6\u001b[1;33m \u001b[0mResultArray\u001b[0m \u001b[1;33m=\u001b[0m \u001b[0mnp\u001b[0m\u001b[1;33m.\u001b[0m\u001b[0madd\u001b[0m\u001b[1;33m(\u001b[0m\u001b[0mFirstArray\u001b[0m\u001b[1;33m,\u001b[0m \u001b[0mSecondArray\u001b[0m\u001b[1;33m)\u001b[0m\u001b[1;33m\u001b[0m\u001b[0m\n\u001b[0m",
      "\u001b[1;31mValueError\u001b[0m: operands could not be broadcast together with shapes (5,) (2,2) "
     ]
    }
   ],
   "source": [
    "#Question 4\n",
    "\n",
    "FirstArray = np.array([1, 2, 3, 4, 5])\n",
    "SecondArray = np.array([[1, 2], [3, 4]])\n",
    "\n",
    "ResultArray = np.add(FirstArray, SecondArray)\n"
   ]
  },
  {
   "cell_type": "code",
   "execution_count": 15,
   "metadata": {},
   "outputs": [
    {
     "name": "stdout",
     "output_type": "stream",
     "text": [
      "[[1]\n",
      " [2]\n",
      " [3]\n",
      " [4]\n",
      " [5]]\n",
      "[10  1 20  2 30  3 40  4 50  5]\n"
     ]
    }
   ],
   "source": [
    "#Question 5\n",
    "\n",
    "FirstArray = np.array([1, 2, 3, 4, 5])\n",
    "SecondArray = np.array([[10, 1], [20, 2], [30, 3], [40, 4], [50, 5]])\n",
    "\n",
    "ResultArray = np.vstack(FirstArray)\n",
    "print(ResultArray)\n",
    "\n",
    "ResultArray = np.hstack(SecondArray)\n",
    "print(ResultArray)"
   ]
  },
  {
   "cell_type": "code",
   "execution_count": 21,
   "metadata": {},
   "outputs": [
    {
     "name": "stdout",
     "output_type": "stream",
     "text": [
      "[[ 1  2]\n",
      " [ 3  4]\n",
      " [ 5  6]\n",
      " [10 20]\n",
      " [30 40]\n",
      " [50 60]]\n",
      "[[ 1  2 10 20]\n",
      " [ 3  4 30 40]\n",
      " [ 5  6 50 60]]\n"
     ]
    }
   ],
   "source": [
    "#Question 6\n",
    "FirstArray = np.array([[1, 2], [3, 4],[5, 6]])\n",
    "SecondArray = np.array([[10, 20], [30, 40], [50, 60]])\n",
    "\n",
    "print(np.concatenate((FirstArray, SecondArray), axis=0))\n",
    "print(np.concatenate((FirstArray, SecondArray), axis=1))"
   ]
  },
  {
   "cell_type": "code",
   "execution_count": 3,
   "metadata": {},
   "outputs": [],
   "source": [
    "import pandas as pd"
   ]
  },
  {
   "cell_type": "code",
   "execution_count": 30,
   "metadata": {},
   "outputs": [
    {
     "name": "stdout",
     "output_type": "stream",
     "text": [
      "  ID     Name Sex         State\n",
      "0  1      Joe   M      Michigan\n",
      "1  2     Jack   M        Dallas\n",
      "2  3     Jill   F    California\n",
      "3  4      Sam   M         Texas\n",
      "4  5    Peter   M      New York\n",
      "5  6    Kathy   F  San Fransico\n",
      "6  7      Jim   M          Troy\n",
      "7  8  Colleen   F       Chicago\n"
     ]
    }
   ],
   "source": [
    "#Question 7\n",
    "MyList = [['1','Joe', 'M', 'Michigan'], ['2','Jack', 'M', 'Dallas'], ['3','Jill', 'F', 'California'], \n",
    "          ['4','Sam', 'M', 'Texas'], ['5','Peter', 'M', 'New York'], ['6','Kathy', 'F', 'San Fransico'], \n",
    "          ['7','Jim', 'M', 'Troy'], ['8','Colleen', 'F', 'Chicago']]\n",
    "MyColumns = ['ID', 'Name', 'Sex', 'State']\n",
    "MyDataFrame = pd.DataFrame(MyList, columns = MyColumns)\n",
    "print(MyDataFrame)"
   ]
  },
  {
   "cell_type": "code",
   "execution_count": 4,
   "metadata": {},
   "outputs": [
    {
     "name": "stdout",
     "output_type": "stream",
     "text": [
      "  Class  Mark1  Mark2  Mark3  Mark4  Mark5   Name Section\n",
      "0     I     90     80     95     75     85    Ken       A\n",
      "1    II     99     75     85     95     90  Stone       B\n",
      "2     I     95     80     98     85     95    Tim       A\n",
      "3   III     85     75     93     80     99  Keith       B\n"
     ]
    }
   ],
   "source": [
    "# Question 8\n",
    "MyDict = {\"Name\": ['Ken', 'Stone', 'Tim', 'Keith'],\n",
    "          \"Class\":['I', 'II', 'I', 'III'],\n",
    "          \"Section\": ['A', 'B', 'A', 'B'], \n",
    "          \"Mark1\": [90, 99, 95, 85], \n",
    "          \"Mark2\": [80, 75, 80, 75], \n",
    "          \"Mark3\": [95, 85, 98, 93], \n",
    "          \"Mark4\": [75, 95, 85, 80], \n",
    "          \"Mark5\": [85, 90, 95, 99]\n",
    "          }\n",
    "MyDataFrame = pd.DataFrame(MyDict)\n",
    "print(MyDataFrame)"
   ]
  },
  {
   "cell_type": "code",
   "execution_count": 16,
   "metadata": {},
   "outputs": [
    {
     "name": "stdout",
     "output_type": "stream",
     "text": [
      "  Class  Mark1  Mark2  Mark3  Mark4  Mark5   Name Section\n",
      "1    II     99     75     85     95     90  Stone       B\n",
      "2     I     95     80     98     85     95    Tim       A\n",
      "  Class  Mark1  Mark2  Mark3  Mark4  Mark5   Name Section\n",
      "1    II     99     75     85     95     90  Stone       B\n",
      "2     I     95     80     98     85     95    Tim       A\n"
     ]
    }
   ],
   "source": [
    "#Question 9\n",
    "NewDataFrame = MyDataFrame.loc[[False, True, True, False]]\n",
    "print(NewDataFrame)\n",
    "IndexDataFrame = MyDataFrame.iloc[1:3]\n",
    "print(IndexDataFrame)"
   ]
  },
  {
   "cell_type": "code",
   "execution_count": 29,
   "metadata": {},
   "outputs": [
    {
     "name": "stdout",
     "output_type": "stream",
     "text": [
      "Name      7\n",
      "State     6\n",
      "Gender    6\n",
      "Score     5\n",
      "dtype: int64\n",
      "Name      7\n",
      "State     6\n",
      "Gender    6\n",
      "Score     5\n",
      "dtype: int64\n",
      "Name      7\n",
      "State     6\n",
      "Gender    6\n",
      "Score     5\n",
      "dtype: int64\n"
     ]
    }
   ],
   "source": [
    "#Question 10\n",
    "import numpy as np\n",
    "SampleDictionary = {\n",
    "\n",
    "    'Name':['George','Andrea','Micheal','Maggie','Ravi','Xien','Jalpa',np.nan],\n",
    "    'State':['Arizona','Georgia','New york','Indiana','Florida','California',np.nan,np.nan],\n",
    "    'Gender':[\"M\",\"F\",\"M\",\"F\",\"M\",\"M\",np.nan,np.nan],\n",
    "    'Score':[63,48,56,75,np.nan,77,np.nan,np.nan]\n",
    "   }\n",
    "OutputDataFrame = pd.DataFrame(SampleDictionary,columns=['Name','State','Gender','Score'])\n",
    "\n",
    "# The following will print the number of not null columns for each column\n",
    "print(OutputDataFrame.notnull().sum())\n",
    "\n",
    "# The following will print the number of not null columns for each column using the count function and axis\n",
    "print(OutputDataFrame.count(axis=0))\n",
    "\n",
    "# The following will print the number of not null columns for each column using the apply function, lambda, count, axis\n",
    "print(OutputDataFrame.apply(lambda x : x.count(), axis=0))"
   ]
  },
  {
   "cell_type": "code",
   "execution_count": 41,
   "metadata": {},
   "outputs": [
    {
     "name": "stdout",
     "output_type": "stream",
     "text": [
      "  Class  Mark1  Mark2  Mark3  Mark4  Mark5   Name Section\n",
      "0     I   90.0   80.0    NaN   75.0   85.0    Ken       A\n",
      "1    II    NaN   75.0   85.0   95.0   90.0  Stone       B\n",
      "2     I   95.0    NaN   98.0    NaN   95.0    Tim       A\n",
      "3   III   85.0   75.0   93.0   80.0    NaN  Keith       B\n"
     ]
    },
    {
     "data": {
      "text/html": [
       "<div>\n",
       "<style scoped>\n",
       "    .dataframe tbody tr th:only-of-type {\n",
       "        vertical-align: middle;\n",
       "    }\n",
       "\n",
       "    .dataframe tbody tr th {\n",
       "        vertical-align: top;\n",
       "    }\n",
       "\n",
       "    .dataframe thead th {\n",
       "        text-align: right;\n",
       "    }\n",
       "</style>\n",
       "<table border=\"1\" class=\"dataframe\">\n",
       "  <thead>\n",
       "    <tr style=\"text-align: right;\">\n",
       "      <th></th>\n",
       "      <th>Class</th>\n",
       "      <th>Mark1</th>\n",
       "      <th>Mark2</th>\n",
       "      <th>Mark3</th>\n",
       "      <th>Mark4</th>\n",
       "      <th>Mark5</th>\n",
       "      <th>Name</th>\n",
       "      <th>Section</th>\n",
       "    </tr>\n",
       "  </thead>\n",
       "  <tbody>\n",
       "    <tr>\n",
       "      <th>0</th>\n",
       "      <td>I</td>\n",
       "      <td>90.0</td>\n",
       "      <td>80.0</td>\n",
       "      <td>100.0</td>\n",
       "      <td>75.0</td>\n",
       "      <td>85.0</td>\n",
       "      <td>Ken</td>\n",
       "      <td>A</td>\n",
       "    </tr>\n",
       "    <tr>\n",
       "      <th>1</th>\n",
       "      <td>II</td>\n",
       "      <td>100.0</td>\n",
       "      <td>75.0</td>\n",
       "      <td>85.0</td>\n",
       "      <td>95.0</td>\n",
       "      <td>90.0</td>\n",
       "      <td>Stone</td>\n",
       "      <td>B</td>\n",
       "    </tr>\n",
       "    <tr>\n",
       "      <th>2</th>\n",
       "      <td>I</td>\n",
       "      <td>95.0</td>\n",
       "      <td>100.0</td>\n",
       "      <td>98.0</td>\n",
       "      <td>100.0</td>\n",
       "      <td>95.0</td>\n",
       "      <td>Tim</td>\n",
       "      <td>A</td>\n",
       "    </tr>\n",
       "    <tr>\n",
       "      <th>3</th>\n",
       "      <td>III</td>\n",
       "      <td>85.0</td>\n",
       "      <td>75.0</td>\n",
       "      <td>93.0</td>\n",
       "      <td>80.0</td>\n",
       "      <td>100.0</td>\n",
       "      <td>Keith</td>\n",
       "      <td>B</td>\n",
       "    </tr>\n",
       "  </tbody>\n",
       "</table>\n",
       "</div>"
      ],
      "text/plain": [
       "  Class  Mark1  Mark2  Mark3  Mark4  Mark5   Name Section\n",
       "0     I   90.0   80.0  100.0   75.0   85.0    Ken       A\n",
       "1    II  100.0   75.0   85.0   95.0   90.0  Stone       B\n",
       "2     I   95.0  100.0   98.0  100.0   95.0    Tim       A\n",
       "3   III   85.0   75.0   93.0   80.0  100.0  Keith       B"
      ]
     },
     "execution_count": 41,
     "metadata": {},
     "output_type": "execute_result"
    }
   ],
   "source": [
    "# Question 11\n",
    "MyDict = {\"Name\": ['Ken', 'Stone', 'Tim', 'Keith'],\n",
    "          \"Class\":['I', 'II', 'I', 'III'],\n",
    "          \"Section\": ['A', 'B', 'A', 'B'], \n",
    "          \"Mark1\": [90, np.nan, 95, 85], \n",
    "          \"Mark2\": [80, 75, np.nan, 75], \n",
    "          \"Mark3\": [np.nan, 85, 98, 93], \n",
    "          \"Mark4\": [75, 95, np.nan, 80], \n",
    "          \"Mark5\": [85, 90, 95, np.nan]\n",
    "          }\n",
    "MyDataFrame = pd.DataFrame(MyDict)\n",
    "print(MyDataFrame)\n",
    "# METHOD 1 of filling missing values\n",
    "MyDataFrame.fillna(100)\n",
    "# METHOD 2 of filling missing values\n",
    "MyDataFrame.replace(to_replace = np.nan, value = 100)"
   ]
  },
  {
   "cell_type": "code",
   "execution_count": 50,
   "metadata": {},
   "outputs": [
    {
     "data": {
      "text/html": [
       "<div>\n",
       "<style scoped>\n",
       "    .dataframe tbody tr th:only-of-type {\n",
       "        vertical-align: middle;\n",
       "    }\n",
       "\n",
       "    .dataframe tbody tr th {\n",
       "        vertical-align: top;\n",
       "    }\n",
       "\n",
       "    .dataframe thead th {\n",
       "        text-align: right;\n",
       "    }\n",
       "</style>\n",
       "<table border=\"1\" class=\"dataframe\">\n",
       "  <thead>\n",
       "    <tr style=\"text-align: right;\">\n",
       "      <th></th>\n",
       "      <th>Batsman 1</th>\n",
       "      <th>Batsman 2</th>\n",
       "      <th>Batsman 3</th>\n",
       "      <th>Batsman 4</th>\n",
       "    </tr>\n",
       "  </thead>\n",
       "  <tbody>\n",
       "    <tr>\n",
       "      <th>0</th>\n",
       "      <td>90.0</td>\n",
       "      <td>98</td>\n",
       "      <td>100</td>\n",
       "      <td>40.0</td>\n",
       "    </tr>\n",
       "    <tr>\n",
       "      <th>1</th>\n",
       "      <td>20.0</td>\n",
       "      <td>60</td>\n",
       "      <td>50</td>\n",
       "      <td>50.0</td>\n",
       "    </tr>\n",
       "    <tr>\n",
       "      <th>3</th>\n",
       "      <td>86.0</td>\n",
       "      <td>75</td>\n",
       "      <td>201</td>\n",
       "      <td>10.0</td>\n",
       "    </tr>\n",
       "  </tbody>\n",
       "</table>\n",
       "</div>"
      ],
      "text/plain": [
       "   Batsman 1  Batsman 2  Batsman 3  Batsman 4\n",
       "0       90.0         98        100       40.0\n",
       "1       20.0         60         50       50.0\n",
       "3       86.0         75        201       10.0"
      ]
     },
     "execution_count": 50,
     "metadata": {},
     "output_type": "execute_result"
    }
   ],
   "source": [
    "# Question 12\n",
    "\n",
    "# METHOD 1 - Dropping all the rows with NULL values\n",
    "MyDictionary = { 'Batsman 1': [90, 20, np.nan, 86, 50],\n",
    "                 'Batsman 2': [98, 60, 100, 75, 90],\n",
    "                 'Batsman 3': [np.nan, np.nan, 50, 201, 90 ],\n",
    "                 'Batsman 4': [40, 50, 20, 10, np.nan ]   \n",
    "                }\n",
    "ScoresDataFrame = pd.DataFrame(MyDictionary)\n",
    "ScoresDataFrame.dropna()\n",
    "\n",
    "# METHOD 2 - Dropping all the rows with all NULL values \n",
    "MyDictionary = { 'Batsman 1': [90, 20, np.nan, 86, 50],\n",
    "                 'Batsman 2': [98, 60, np.nan, 75, 90],\n",
    "                 'Batsman 3': [100, np.nan, np.nan, 201, 90 ],\n",
    "                 'Batsman 4': [40, 50, np.nan, 10, np.nan ]   \n",
    "                }\n",
    "ScoresDataFrame = pd.DataFrame(MyDictionary)\n",
    "ScoresDataFrame.dropna(how = 'all')\n",
    "\n",
    "# METHOD 3 - Dropping all the rows with NULL values in a particular axis \n",
    "MyDictionary = { 'Batsman 1': [90, 20, np.nan, 86, 50],\n",
    "                 'Batsman 2': [98, 60, 45, 75, 90],\n",
    "                 'Batsman 3': [100, 50, 76, 201, 90 ],\n",
    "                 'Batsman 4': [40, 50, np.nan, 10, np.nan ]   \n",
    "                }\n",
    "ScoresDataFrame = pd.DataFrame(MyDictionary)\n",
    "ScoresDataFrame.dropna(axis = 0, how = 'any')"
   ]
  },
  {
   "cell_type": "code",
   "execution_count": 77,
   "metadata": {},
   "outputs": [
    {
     "data": {
      "text/plain": [
       "US Region\n",
       "Northeast    31.0\n",
       "Northwest    40.5\n",
       "Southeast    25.5\n",
       "Southwest    25.0\n",
       "Name: Age, dtype: float64"
      ]
     },
     "execution_count": 77,
     "metadata": {},
     "output_type": "execute_result"
    }
   ],
   "source": [
    "# Question 13\n",
    "Dictionary = {'Age': [25, 30, 45, 35, 33, 35, 25, 52, 21, 24, 48, 22, 27, 28, 21, 51, 23],\n",
    " 'Hair Colour': ['Black', 'Black', 'Red', 'Blond', 'Brown', 'Brown', 'Black', 'Brown', 'Blond', 'Blond', 'Black', 'Black',\n",
    "                 'Brown', 'Black', 'Blond', 'Black', 'Brown'],\n",
    " 'US Region': ['Southwest', 'Northwest', 'Northeast', 'Southwest', 'Southwest', 'Northeast', 'Southwest', 'Southeast', 'Southwest',\n",
    "               'Northeast', 'Southwest', 'Southwest', 'Northeast', 'Southeast', 'Southeast', 'Northwest', 'Southeast'],\n",
    " 'Validation': [1, 1, 1, 0, 0, 0, 0, 0, 1, 0, 1, 0, 0, 1, 1, 0, 1]\n",
    "}\n",
    "NewDataFrame = pd.DataFrame(Dictionary)\n",
    "NewDataFrame.groupby(['US Region'])['Age'].mean()\n",
    "NewDataFrame.groupby(['Hair Colour'])['Age','Validation'].sum().reset_index()\n",
    "NewDataFrame.groupby(['US Region'])['Age'].median()"
   ]
  },
  {
   "cell_type": "code",
   "execution_count": 63,
   "metadata": {},
   "outputs": [
    {
     "name": "stdout",
     "output_type": "stream",
     "text": [
      "   Age Hair Colour  US Region  Validation\n",
      "0   21       Blond  Southwest           1\n",
      "1   24       Blond  Northeast           0\n",
      "2   48       Black  Southwest           1\n",
      "3   22       Black  Southwest           0\n",
      "4   27       Brown  Northeast           0\n",
      "5   28       Black  Southeast           1\n",
      "6   21       Blond  Southeast           1\n",
      "7   51       Black  Northwest           0\n",
      "8   23       Brown  Southeast           1\n",
      "   Age Hair Colour  US Region  Validation\n",
      "0   25       Black  Southwest           1\n",
      "1   30       Black  Northwest           1\n",
      "2   45         Red  Northeast           1\n",
      "3   35       Blond  Southwest           0\n",
      "4   33       Brown  Southwest           0\n",
      "5   35       Brown  Northeast           0\n",
      "6   25       Black  Southwest           0\n",
      "7   52       Brown  Southeast           0\n",
      "Empty DataFrame\n",
      "Columns: [Age, Hair Colour, US Region, Validation]\n",
      "Index: []\n"
     ]
    }
   ],
   "source": [
    "# Question 14\n",
    "Dictionary1 = {'Age': [25, 30, 45, 35, 33, 35, 25, 52],\n",
    " 'Hair Colour': ['Black', 'Black', 'Red', 'Blond', 'Brown', 'Brown', 'Black', 'Brown'],\n",
    " 'US Region': ['Southwest', 'Northwest', 'Northeast', 'Southwest', 'Southwest', 'Northeast', 'Southwest', 'Southeast'],\n",
    " 'Validation': [1, 1, 1, 0, 0, 0, 0, 0]\n",
    "}\n",
    "Dictionary2 = {'Age': [21, 24, 48, 22, 27, 28, 21, 51, 23],\n",
    " 'Hair Colour': ['Blond', 'Blond', 'Black', 'Black', 'Brown', 'Black', 'Blond', 'Black', 'Brown'],\n",
    " 'US Region': ['Southwest', 'Northeast', 'Southwest', 'Southwest', 'Northeast', 'Southeast', 'Southeast', 'Northwest', 'Southeast'],\n",
    " 'Validation': [1, 0, 1, 0, 0, 1, 1, 0, 1]\n",
    "}\n",
    "DataFrame1 = pd.DataFrame(Dictionary1)\n",
    "DataFrame2 = pd.DataFrame(Dictionary2)\n",
    "df = DataFrame1.merge(DataFrame2,how='right')\n",
    "print(df)\n",
    "df = DataFrame1.merge(DataFrame2,how='left')\n",
    "print(df)\n",
    "df = DataFrame1.merge(DataFrame2,how='inner')\n",
    "print(df)"
   ]
  },
  {
   "cell_type": "code",
   "execution_count": 60,
   "metadata": {},
   "outputs": [
    {
     "name": "stdout",
     "output_type": "stream",
     "text": [
      "   Age Hair Colour  US Region  Validation\n",
      "0   25       Black  Southwest           1\n",
      "1   30       Black  Northwest           1\n",
      "2   45         Red  Northeast           1\n",
      "3   35       Blond  Southwest           0\n",
      "4   33       Brown  Southwest           0\n",
      "5   35       Brown  Northeast           0\n",
      "6   25       Black  Southwest           0\n",
      "7   52       Brown  Southeast           0\n",
      "0   21       Blond  Southwest           1\n",
      "1   24       Blond  Northeast           0\n",
      "2   48       Black  Southwest           1\n",
      "3   22       Black  Southwest           0\n",
      "4   27       Brown  Northeast           0\n",
      "5   28       Black  Southeast           1\n",
      "6   21       Blond  Southeast           1\n",
      "7   51       Black  Northwest           0\n",
      "8   23       Brown  Southeast           1\n",
      "    Age Hair Colour  US Region  Validation  Age Hair Colour  US Region  \\\n",
      "0  25.0       Black  Southwest         1.0   21       Blond  Southwest   \n",
      "1  30.0       Black  Northwest         1.0   24       Blond  Northeast   \n",
      "2  45.0         Red  Northeast         1.0   48       Black  Southwest   \n",
      "3  35.0       Blond  Southwest         0.0   22       Black  Southwest   \n",
      "4  33.0       Brown  Southwest         0.0   27       Brown  Northeast   \n",
      "5  35.0       Brown  Northeast         0.0   28       Black  Southeast   \n",
      "6  25.0       Black  Southwest         0.0   21       Blond  Southeast   \n",
      "7  52.0       Brown  Southeast         0.0   51       Black  Northwest   \n",
      "8   NaN         NaN        NaN         NaN   23       Brown  Southeast   \n",
      "\n",
      "   Validation  \n",
      "0           1  \n",
      "1           0  \n",
      "2           1  \n",
      "3           0  \n",
      "4           0  \n",
      "5           1  \n",
      "6           1  \n",
      "7           0  \n",
      "8           1  \n"
     ]
    }
   ],
   "source": [
    "# Question 15\n",
    "Dictionary1 = {'Age': [25, 30, 45, 35, 33, 35, 25, 52],\n",
    " 'Hair Colour': ['Black', 'Black', 'Red', 'Blond', 'Brown', 'Brown', 'Black', 'Brown'],\n",
    " 'US Region': ['Southwest', 'Northwest', 'Northeast', 'Southwest', 'Southwest', 'Northeast', 'Southwest', 'Southeast'],\n",
    " 'Validation': [1, 1, 1, 0, 0, 0, 0, 0]\n",
    "}\n",
    "Dictionary2 = {'Age': [21, 24, 48, 22, 27, 28, 21, 51, 23],\n",
    " 'Hair Colour': ['Blond', 'Blond', 'Black', 'Black', 'Brown', 'Black', 'Blond', 'Black', 'Brown'],\n",
    " 'US Region': ['Southwest', 'Northeast', 'Southwest', 'Southwest', 'Northeast', 'Southeast', 'Southeast', 'Northwest', 'Southeast'],\n",
    " 'Validation': [1, 0, 1, 0, 0, 1, 1, 0, 1]\n",
    "}\n",
    "DataFrame1 = pd.DataFrame(Dictionary1)\n",
    "DataFrame2 = pd.DataFrame(Dictionary2)\n",
    "NewDataFrame = pd.concat([DataFrame1, DataFrame2],axis=0)\n",
    "print(NewDataFrame)\n",
    "NewDataFrame = pd.concat([DataFrame1, DataFrame2],axis=1)\n",
    "print(NewDataFrame)"
   ]
  }
 ],
 "metadata": {
  "kernelspec": {
   "display_name": "Python 2",
   "language": "python",
   "name": "python2"
  },
  "language_info": {
   "codemirror_mode": {
    "name": "ipython",
    "version": 2
   },
   "file_extension": ".py",
   "mimetype": "text/x-python",
   "name": "python",
   "nbconvert_exporter": "python",
   "pygments_lexer": "ipython2",
   "version": "2.7.16"
  }
 },
 "nbformat": 4,
 "nbformat_minor": 2
}
